{
 "cells": [
  {
   "cell_type": "code",
   "execution_count": 1,
   "metadata": {},
   "outputs": [],
   "source": [
    "import torch\n",
    "import torch.utils.data\n",
    "import random\n",
    "from collections import defaultdict\n",
    "\n",
    "def inf_shuffle(xs):\n",
    "    while xs:\n",
    "        random.shuffle(xs)\n",
    "        for x in xs:\n",
    "            yield x\n",
    "\n",
    "class BalancedBatchSampler(torch.utils.data.sampler.Sampler):\n",
    "    def __init__(self, dataset):\n",
    "        transform = dataset.transform\n",
    "        dataset.transform = None  # trick to avoid useless computations\n",
    "\n",
    "        indices = defaultdict(list)\n",
    "        for i in range(0, len(dataset)):\n",
    "            _, label = dataset[i]\n",
    "            indices[label].append(i)            \n",
    "        self.indices = list(indices.values())\n",
    "        \n",
    "        self.n = max(len(ids) for ids in self.indices) * len(self.indices)\n",
    "\n",
    "        dataset.transform = transform\n",
    "        \n",
    "    def __iter__(self):\n",
    "        m = 0\n",
    "        for xs in zip(*(inf_shuffle(xs) for xs in self.indices)):\n",
    "            for i in xs:  # yield one index of each label\n",
    "                yield i\n",
    "                m += 1\n",
    "                if m >= self.n:\n",
    "                    return\n",
    "\n",
    "    def __len__(self):\n",
    "        return self.n"
   ]
  },
  {
   "cell_type": "code",
   "execution_count": 2,
   "metadata": {},
   "outputs": [],
   "source": [
    "import dataset\n",
    "from astropy.io import fits\n",
    "\n",
    "def transform(images):\n",
    "    images = [fits.open(file, memmap=False)[0].data for file in images]\n",
    "    images = [torch.from_numpy(x.byteswap().newbyteorder()) for x in images]\n",
    "\n",
    "    normalize = [3.5239e+10, 1.5327e+09, 1.8903e+09, 1.2963e+09]\n",
    "    images = [x.mul(n) for x, n in zip(images, normalize)]\n",
    "\n",
    "    vis, j, y, h = images\n",
    "    upsample = torch.nn.Upsample(size=vis.shape, mode='bilinear', align_corners=True)\n",
    "    jyh = upsample(torch.stack([j, y, h])[None]).squeeze(0)\n",
    "    return torch.cat([vis[None], jyh], dim=0)\n",
    "\n",
    "def target_transform(labels):\n",
    "    return 1.0 if labels['n_sources'] else -1.0\n",
    "    \n",
    "dataset = dataset.GG2('~/.torchvision/datasets/GG2', transform=transform, target_transform=target_transform)\n",
    "loader = torch.utils.data.DataLoader(dataset, batch_size=10, sampler=BalancedBatchSampler(dataset))"
   ]
  },
  {
   "cell_type": "code",
   "execution_count": 3,
   "metadata": {},
   "outputs": [
    {
     "name": "stdout",
     "output_type": "stream",
     "text": [
      "torch.Size([10, 4, 200, 200])\n",
      "tensor([ 1., -1.,  1., -1.,  1., -1.,  1., -1.,  1., -1.], dtype=torch.float64)\n"
     ]
    }
   ],
   "source": [
    "for batch in loader:\n",
    "    x, y = batch\n",
    "    print(x.shape)\n",
    "    print(y)\n",
    "    break"
   ]
  },
  {
   "cell_type": "code",
   "execution_count": null,
   "metadata": {},
   "outputs": [],
   "source": []
  }
 ],
 "metadata": {
  "kernelspec": {
   "display_name": "Python 3",
   "language": "python",
   "name": "python3"
  },
  "language_info": {
   "codemirror_mode": {
    "name": "ipython",
    "version": 3
   },
   "file_extension": ".py",
   "mimetype": "text/x-python",
   "name": "python",
   "nbconvert_exporter": "python",
   "pygments_lexer": "ipython3",
   "version": "3.7.3"
  }
 },
 "nbformat": 4,
 "nbformat_minor": 2
}
